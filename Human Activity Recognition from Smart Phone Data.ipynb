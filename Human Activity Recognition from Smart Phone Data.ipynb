{
 "cells": [
  {
   "cell_type": "markdown",
   "metadata": {},
   "source": [
    "# Guided Projects Artificial Intelligence & Machine Learning\n",
    "## Guided Projects: Unsupervised Learning\n",
    "### Human Activity Recognition from Smart Phone Data\n",
    "Recognizing human activities from temporal streams of sensory data observations is a \n",
    "very important task on a wide variety of applications in context recognition. Human activities \n",
    "are hierarchical in nature, i.e. the complex activities can be decomposed to several simpler \n",
    "ones. Human activity recognition is the problem of classifying sequences of accelerometer\n",
    "data recorded by pre-installed sensors in smart phones into known well-defined \n",
    "movements to make it ready for predictive modelling.\n",
    "### Question:\n",
    "Perform activity recognition on the dataset using a hidden markov model. Then perform the \n",
    "same task using a different classification algorithm (logistic regression/decision tree) of your \n",
    "choice and compare the performance of the two algorithms\n",
    "\n",
    "Dataset Link: Human Activity Recognition with Smartphones\n",
    "https://www.kaggle.com/uciml/human-activity-recognition-with-smartphones"
   ]
  },
  {
   "cell_type": "code",
   "execution_count": 1,
   "metadata": {},
   "outputs": [],
   "source": [
    "import numpy as np\n",
    "import pandas as pd\n",
    "import matplotlib.pyplot as plt\n",
    "from sklearn.decomposition import PCA\n",
    "from sklearn.metrics import f1_score, accuracy_score\n",
    "from keras.models import Sequential\n",
    "from keras.layers import Dense\n",
    "from keras.utils import np_utils\n",
    "from sklearn.preprocessing import LabelEncoder\n",
    "from hmmlearn import hmm"
   ]
  },
  {
   "cell_type": "code",
   "execution_count": 162,
   "metadata": {},
   "outputs": [],
   "source": [
    "# Load the datasets\n",
    "train = pd.read_csv('Data/train.csv')\n",
    "test = pd.read_csv('Data/test.csv')\n"
   ]
  },
  {
   "cell_type": "code",
   "execution_count": 164,
   "metadata": {},
   "outputs": [
    {
     "data": {
      "text/plain": [
       "array(['STANDING', 'SITTING', 'LAYING', 'WALKING', 'WALKING_DOWNSTAIRS',\n",
       "       'WALKING_UPSTAIRS'], dtype=object)"
      ]
     },
     "execution_count": 164,
     "metadata": {},
     "output_type": "execute_result"
    }
   ],
   "source": [
    "train['Activity'].unique()"
   ]
  },
  {
   "cell_type": "code",
   "execution_count": 165,
   "metadata": {},
   "outputs": [
    {
     "data": {
      "text/plain": [
       "(Index(['tBodyAcc-mean()-X', 'tBodyAcc-mean()-Y', 'tBodyAcc-mean()-Z',\n",
       "        'tBodyAcc-std()-X', 'tBodyAcc-std()-Y', 'tBodyAcc-std()-Z',\n",
       "        'tBodyAcc-mad()-X', 'tBodyAcc-mad()-Y', 'tBodyAcc-mad()-Z',\n",
       "        'tBodyAcc-max()-X',\n",
       "        ...\n",
       "        'fBodyBodyGyroJerkMag-kurtosis()', 'angle(tBodyAccMean,gravity)',\n",
       "        'angle(tBodyAccJerkMean),gravityMean)',\n",
       "        'angle(tBodyGyroMean,gravityMean)',\n",
       "        'angle(tBodyGyroJerkMean,gravityMean)', 'angle(X,gravityMean)',\n",
       "        'angle(Y,gravityMean)', 'angle(Z,gravityMean)', 'subject', 'Activity'],\n",
       "       dtype='object', length=563),\n",
       " Index(['tBodyAcc-mean()-X', 'tBodyAcc-mean()-Y', 'tBodyAcc-mean()-Z',\n",
       "        'tBodyAcc-std()-X', 'tBodyAcc-std()-Y', 'tBodyAcc-std()-Z',\n",
       "        'tBodyAcc-mad()-X', 'tBodyAcc-mad()-Y', 'tBodyAcc-mad()-Z',\n",
       "        'tBodyAcc-max()-X',\n",
       "        ...\n",
       "        'fBodyBodyGyroJerkMag-kurtosis()', 'angle(tBodyAccMean,gravity)',\n",
       "        'angle(tBodyAccJerkMean),gravityMean)',\n",
       "        'angle(tBodyGyroMean,gravityMean)',\n",
       "        'angle(tBodyGyroJerkMean,gravityMean)', 'angle(X,gravityMean)',\n",
       "        'angle(Y,gravityMean)', 'angle(Z,gravityMean)', 'subject', 'Activity'],\n",
       "       dtype='object', length=563))"
      ]
     },
     "execution_count": 165,
     "metadata": {},
     "output_type": "execute_result"
    }
   ],
   "source": [
    "train.columns, test.columns"
   ]
  },
  {
   "cell_type": "code",
   "execution_count": 166,
   "metadata": {},
   "outputs": [
    {
     "data": {
      "text/plain": [
       "tBodyAcc-mean()-X       0\n",
       "tBodyAcc-mean()-Y       0\n",
       "tBodyAcc-mean()-Z       0\n",
       "tBodyAcc-std()-X        0\n",
       "tBodyAcc-std()-Y        0\n",
       "                       ..\n",
       "angle(X,gravityMean)    0\n",
       "angle(Y,gravityMean)    0\n",
       "angle(Z,gravityMean)    0\n",
       "subject                 0\n",
       "Activity                0\n",
       "Length: 563, dtype: int64"
      ]
     },
     "execution_count": 166,
     "metadata": {},
     "output_type": "execute_result"
    }
   ],
   "source": [
    "train.isna().sum()"
   ]
  },
  {
   "cell_type": "code",
   "execution_count": 167,
   "metadata": {},
   "outputs": [
    {
     "data": {
      "text/plain": [
       "((7352, 562), (2947, 562), (7352,), (2947,))"
      ]
     },
     "execution_count": 167,
     "metadata": {},
     "output_type": "execute_result"
    }
   ],
   "source": [
    "# X and y\n",
    "x_train = train.iloc[:,:-1].values\n",
    "x_test = test.iloc[:,:-1].values\n",
    "y_train = train['Activity']\n",
    "y_test = test['Activity']\n",
    "x_train.shape, x_test.shape, y_train.shape, y_test.shape"
   ]
  },
  {
   "cell_type": "code",
   "execution_count": 168,
   "metadata": {},
   "outputs": [
    {
     "data": {
      "text/plain": [
       "(562, 562)"
      ]
     },
     "execution_count": 168,
     "metadata": {},
     "output_type": "execute_result"
    }
   ],
   "source": [
    "cov = np.cov(x_train, rowvar = False)\n",
    "cov.shape"
   ]
  },
  {
   "cell_type": "code",
   "execution_count": 169,
   "metadata": {},
   "outputs": [
    {
     "data": {
      "text/plain": [
       "(LAYING                1407\n",
       " STANDING              1374\n",
       " SITTING               1286\n",
       " WALKING               1226\n",
       " WALKING_UPSTAIRS      1073\n",
       " WALKING_DOWNSTAIRS     986\n",
       " Name: Activity, dtype: int64,\n",
       " LAYING                537\n",
       " STANDING              532\n",
       " WALKING               496\n",
       " SITTING               491\n",
       " WALKING_UPSTAIRS      471\n",
       " WALKING_DOWNSTAIRS    420\n",
       " Name: Activity, dtype: int64)"
      ]
     },
     "execution_count": 169,
     "metadata": {},
     "output_type": "execute_result"
    }
   ],
   "source": [
    "y_train.value_counts(), y_test.value_counts()"
   ]
  },
  {
   "cell_type": "code",
   "execution_count": 170,
   "metadata": {},
   "outputs": [
    {
     "data": {
      "text/plain": [
       "((7352, 69), (2947, 78))"
      ]
     },
     "execution_count": 170,
     "metadata": {},
     "output_type": "execute_result"
    }
   ],
   "source": [
    "pca = PCA(n_components = 0.98)\n",
    "x_train_d = pca.fit_transform(x_train)\n",
    "x_test_d = pca.fit_transform(x_test)\n",
    "x_train_d.shape, x_test_d.shape"
   ]
  },
  {
   "cell_type": "code",
   "execution_count": 171,
   "metadata": {},
   "outputs": [],
   "source": [
    "# Number of components used from above\n",
    "pca = PCA(n_components = 80)\n",
    "fit = pca.fit(x_train)"
   ]
  },
  {
   "cell_type": "code",
   "execution_count": 172,
   "metadata": {},
   "outputs": [
    {
     "data": {
      "text/plain": [
       "((7352, 80), (2947, 80))"
      ]
     },
     "execution_count": 172,
     "metadata": {},
     "output_type": "execute_result"
    }
   ],
   "source": [
    "x_train_d = fit.transform(x_train)\n",
    "x_test_d = fit.transform(x_test)\n",
    "x_train_d.shape, x_test_d.shape"
   ]
  },
  {
   "cell_type": "code",
   "execution_count": 173,
   "metadata": {},
   "outputs": [],
   "source": [
    "# Hidden Markov Model\n",
    "hmm_train = pd.DataFrame(x_train_d)\n",
    "hmm_train['Activity'] = train['Activity']\n",
    "hmm_test = pd.DataFrame(x_test_d)\n",
    "hmm_test['Activity'] = test['Activity']"
   ]
  },
  {
   "cell_type": "code",
   "execution_count": 174,
   "metadata": {},
   "outputs": [],
   "source": [
    "hmm_train_STAND = hmm_train[hmm_train['Activity']=='STANDING']\n",
    "hmm_train_SIT = hmm_train[hmm_train['Activity']=='SITTING']\n",
    "hmm_train_LAY = hmm_train[hmm_train['Activity']=='LAYING']\n",
    "hmm_train_WALK = hmm_train[hmm_train['Activity']=='WALKING']\n",
    "hmm_train_WALKD = hmm_train[hmm_train['Activity']=='WALKING_DOWNSTAIRS']\n",
    "hmm_train_WALKU = hmm_train[hmm_train['Activity']=='WALKING_UPSTAIRS']"
   ]
  },
  {
   "cell_type": "code",
   "execution_count": 175,
   "metadata": {},
   "outputs": [
    {
     "data": {
      "text/plain": [
       "(7352,)"
      ]
     },
     "execution_count": 175,
     "metadata": {},
     "output_type": "execute_result"
    }
   ],
   "source": [
    "# Calculate true labels\n",
    "labels_true = []\n",
    "for i in range(len(hmm_train)):\n",
    "    if (hmm_train['Activity'].iloc[i]=='STANDING'):\n",
    "        labels_true.append(0)\n",
    "    elif (hmm_train['Activity'].iloc[i]=='SITTING'):\n",
    "        labels_true.append(1)\n",
    "    elif (hmm_train['Activity'].iloc[i]=='LAYING'):\n",
    "        labels_true.append(2)\n",
    "    elif (hmm_train['Activity'].iloc[i]=='WALKING'):\n",
    "        labels_true.append(3)\n",
    "    elif (hmm_train['Activity'].iloc[i]=='WALKING_DOWNSTAIRS'):\n",
    "        labels_true.append(4)\n",
    "    else:\n",
    "        labels_true.append(5)\n",
    "labels_true = np.array(labels_true)\n",
    "labels_true.shape"
   ]
  },
  {
   "cell_type": "code",
   "execution_count": 176,
   "metadata": {},
   "outputs": [
    {
     "data": {
      "text/plain": [
       "(2947,)"
      ]
     },
     "execution_count": 176,
     "metadata": {},
     "output_type": "execute_result"
    }
   ],
   "source": [
    "# Calculate true labels\n",
    "labels_test = []\n",
    "for j in range(len(hmm_test)):\n",
    "    if (hmm_test['Activity'].iloc[j]=='STANDING'):\n",
    "        labels_test.append(0)\n",
    "    elif (hmm_test['Activity'].iloc[j]=='SITTING'):\n",
    "        labels_test.append(1)\n",
    "    elif (hmm_test['Activity'].iloc[j]=='LAYING'):\n",
    "        labels_test.append(2)\n",
    "    elif (hmm_test['Activity'].iloc[j]=='WALKING'):\n",
    "        labels_test.append(3)\n",
    "    elif (hmm_test['Activity'].iloc[j]=='WALKING_DOWNSTAIRS'):\n",
    "        labels_test.append(4)\n",
    "    else:\n",
    "        labels_test.append(5)\n",
    "labels_test = np.array(labels_test)\n",
    "labels_test.shape"
   ]
  },
  {
   "cell_type": "code",
   "execution_count": 95,
   "metadata": {},
   "outputs": [],
   "source": [
    "# Implementing HMM\n",
    "# Fitting for each activity\n",
    "def HMM_F1score(N,M,labels_true):\n",
    "    hmm_stand = hmm.GMMHMM(n_components = N, n_mix = M, covariance_type = 'diag')\n",
    "    hmm_sit = hmm.GMMHMM(n_components = N, n_mix = M, covariance_type = 'diag')\n",
    "    hmm_lay = hmm.GMMHMM(n_components = N, n_mix = M, covariance_type = 'diag')\n",
    "    hmm_walk = hmm.GMMHMM(n_components = N, n_mix = M, covariance_type = 'diag')\n",
    "    hmm_walk_d = hmm.GMMHMM(n_components = N, n_mix = M, covariance_type = 'diag')\n",
    "    hmm_walk_u = hmm.GMMHMM(n_components = N, n_mix = M, covariance_type = 'diag')\n",
    "    \n",
    "    hmm_stand.fit(hmm_train_STAND.iloc[:,0:80].values)\n",
    "    hmm_sit.fit(hmm_train_SIT.iloc[:,0:80].values)\n",
    "    hmm_lay.fit(hmm_train_LAY.iloc[:,0:80].values)\n",
    "    hmm_walk.fit(hmm_train_WALK.iloc[:,0:80].values)\n",
    "    hmm_walk_d.fit(hmm_train_WALKD.iloc[:,0:80].values)\n",
    "    hmm_walk_u.fit(hmm_train_WALKU.iloc[:,0:80].values)\n",
    "    \n",
    "    # Calculating F1_Score\n",
    "    labels_predict = []\n",
    "    for i in range(len(hmm_test)):\n",
    "        log_likelihood_value = np.array([hmm_stand.score(hmm_test.iloc[i,0:80].values.reshape(1,80)),\n",
    "                                        hmm_sit.score(hmm_test.iloc[i,0:80].values.reshape(1,80)),\n",
    "                                        hmm_lay.score(hmm_test.iloc[i,0:80].values.reshape(1,80)),\n",
    "                                        hmm_walk.score(hmm_test.iloc[i,0:80].values.reshape(1,80)),\n",
    "                                        hmm_walk_d.score(hmm_test.iloc[i,0:80].values.reshape(1,80)),\n",
    "                                        hmm_walk_u.score(hmm_test.iloc[i,0:80].values.reshape(1,80))])\n",
    "        labels_predict.append(np.argmax(log_likelihood_value))\n",
    "    labels_predict = np.array(labels_predict)\n",
    "    \n",
    "    F1 = f1_score(labels_true, labels_predict, average = 'micro')\n",
    "    acc = accuracy_score(labels_true, labels_predict)\n",
    "    return F1,acc"
   ]
  },
  {
   "cell_type": "code",
   "execution_count": 177,
   "metadata": {},
   "outputs": [
    {
     "data": {
      "text/plain": [
       "array([ 1,  2,  3,  4,  5,  6,  7,  8,  9, 10, 11, 12, 13, 14, 15, 16, 17,\n",
       "       18, 19, 20, 21, 22, 23, 24, 25, 26, 27, 28, 29, 30, 31, 32, 33, 34,\n",
       "       35])"
      ]
     },
     "execution_count": 177,
     "metadata": {},
     "output_type": "execute_result"
    }
   ],
   "source": [
    "states = np.arange(1,36,1)\n",
    "states"
   ]
  },
  {
   "cell_type": "code",
   "execution_count": 120,
   "metadata": {},
   "outputs": [
    {
     "name": "stdout",
     "output_type": "stream",
     "text": [
      "HMM has been trained for 1 states\n",
      "HMM has been trained for 2 states\n",
      "HMM has been trained for 3 states\n",
      "HMM has been trained for 4 states\n",
      "HMM has been trained for 5 states\n",
      "HMM has been trained for 6 states\n",
      "HMM has been trained for 7 states\n",
      "HMM has been trained for 8 states\n",
      "HMM has been trained for 9 states\n",
      "HMM has been trained for 10 states\n",
      "HMM has been trained for 11 states\n",
      "HMM has been trained for 12 states\n",
      "HMM has been trained for 13 states\n",
      "HMM has been trained for 14 states\n",
      "HMM has been trained for 15 states\n",
      "HMM has been trained for 16 states\n",
      "HMM has been trained for 17 states\n",
      "HMM has been trained for 18 states\n",
      "HMM has been trained for 19 states\n",
      "HMM has been trained for 20 states\n",
      "HMM has been trained for 21 states\n",
      "HMM has been trained for 22 states\n",
      "HMM has been trained for 23 states\n",
      "HMM has been trained for 24 states\n",
      "HMM has been trained for 25 states\n",
      "HMM has been trained for 26 states\n",
      "HMM has been trained for 27 states\n",
      "HMM has been trained for 28 states\n",
      "HMM has been trained for 29 states\n",
      "HMM has been trained for 30 states\n",
      "HMM has been trained for 31 states\n",
      "HMM has been trained for 32 states\n",
      "HMM has been trained for 33 states\n",
      "HMM has been trained for 34 states\n",
      "HMM has been trained for 35 states\n"
     ]
    },
    {
     "data": {
      "image/png": "[encoded data removed]",
      "text/plain": [
       "<Figure size 432x288 with 2 Axes>"
      ]
     },
     "metadata": {
      "needs_background": "light"
     },
     "output_type": "display_data"
    }
   ],
   "source": [
    "F1_value_states = []\n",
    "acc_value_states = []\n",
    "for i in states:\n",
    "    print(\"HMM has been trained for {} states\".format(i))\n",
    "    f1,acc = HMM_F1score(i,1,labels_test)\n",
    "    F1_value_states.append(f1)\n",
    "    acc_value_states.append(acc)\n",
    "fig, ax = plt.subplots(2,1)\n",
    "\n",
    "ax[0].plot(np.flip(F1_value_states))\n",
    "ax[1].plot(np.flip(acc_value_states))\n",
    "\n",
    "plt.show()"
   ]
  },
  {
   "cell_type": "code",
   "execution_count": 178,
   "metadata": {},
   "outputs": [
    {
     "data": {
      "text/html": [
       "<div>\n",
       "<style scoped>\n",
       "    .dataframe tbody tr th:only-of-type {\n",
       "        vertical-align: middle;\n",
       "    }\n",
       "\n",
       "    .dataframe tbody tr th {\n",
       "        vertical-align: top;\n",
       "    }\n",
       "\n",
       "    .dataframe thead th {\n",
       "        text-align: right;\n",
       "    }\n",
       "</style>\n",
       "<table border=\"1\" class=\"dataframe\">\n",
       "  <thead>\n",
       "    <tr style=\"text-align: right;\">\n",
       "      <th></th>\n",
       "      <th>0</th>\n",
       "      <th>1</th>\n",
       "      <th>2</th>\n",
       "      <th>3</th>\n",
       "      <th>4</th>\n",
       "      <th>5</th>\n",
       "      <th>6</th>\n",
       "      <th>7</th>\n",
       "      <th>8</th>\n",
       "      <th>9</th>\n",
       "      <th>...</th>\n",
       "      <th>25</th>\n",
       "      <th>26</th>\n",
       "      <th>27</th>\n",
       "      <th>28</th>\n",
       "      <th>29</th>\n",
       "      <th>30</th>\n",
       "      <th>31</th>\n",
       "      <th>32</th>\n",
       "      <th>33</th>\n",
       "      <th>34</th>\n",
       "    </tr>\n",
       "  </thead>\n",
       "  <tbody>\n",
       "    <tr>\n",
       "      <th>0</th>\n",
       "      <td>0.873431</td>\n",
       "      <td>0.744825</td>\n",
       "      <td>0.728877</td>\n",
       "      <td>0.710214</td>\n",
       "      <td>0.592806</td>\n",
       "      <td>0.518154</td>\n",
       "      <td>0.525619</td>\n",
       "      <td>0.543604</td>\n",
       "      <td>0.468273</td>\n",
       "      <td>0.475399</td>\n",
       "      <td>...</td>\n",
       "      <td>0.366474</td>\n",
       "      <td>0.374618</td>\n",
       "      <td>0.364778</td>\n",
       "      <td>0.387513</td>\n",
       "      <td>0.28266</td>\n",
       "      <td>0.347811</td>\n",
       "      <td>0.36342</td>\n",
       "      <td>0.362402</td>\n",
       "      <td>0.365456</td>\n",
       "      <td>0.35867</td>\n",
       "    </tr>\n",
       "    <tr>\n",
       "      <th>1</th>\n",
       "      <td>0.873431</td>\n",
       "      <td>0.744825</td>\n",
       "      <td>0.728877</td>\n",
       "      <td>0.710214</td>\n",
       "      <td>0.592806</td>\n",
       "      <td>0.518154</td>\n",
       "      <td>0.525619</td>\n",
       "      <td>0.543604</td>\n",
       "      <td>0.468273</td>\n",
       "      <td>0.475399</td>\n",
       "      <td>...</td>\n",
       "      <td>0.366474</td>\n",
       "      <td>0.374618</td>\n",
       "      <td>0.364778</td>\n",
       "      <td>0.387513</td>\n",
       "      <td>0.28266</td>\n",
       "      <td>0.347811</td>\n",
       "      <td>0.36342</td>\n",
       "      <td>0.362402</td>\n",
       "      <td>0.365456</td>\n",
       "      <td>0.35867</td>\n",
       "    </tr>\n",
       "  </tbody>\n",
       "</table>\n",
       "<p>2 rows × 35 columns</p>\n",
       "</div>"
      ],
      "text/plain": [
       "         0         1         2         3         4         5         6   \\\n",
       "0  0.873431  0.744825  0.728877  0.710214  0.592806  0.518154  0.525619   \n",
       "1  0.873431  0.744825  0.728877  0.710214  0.592806  0.518154  0.525619   \n",
       "\n",
       "         7         8         9   ...        25        26        27        28  \\\n",
       "0  0.543604  0.468273  0.475399  ...  0.366474  0.374618  0.364778  0.387513   \n",
       "1  0.543604  0.468273  0.475399  ...  0.366474  0.374618  0.364778  0.387513   \n",
       "\n",
       "        29        30       31        32        33       34  \n",
       "0  0.28266  0.347811  0.36342  0.362402  0.365456  0.35867  \n",
       "1  0.28266  0.347811  0.36342  0.362402  0.365456  0.35867  \n",
       "\n",
       "[2 rows x 35 columns]"
      ]
     },
     "execution_count": 178,
     "metadata": {},
     "output_type": "execute_result"
    }
   ],
   "source": [
    "score = pd.DataFrame([np.array(F1_value_states), np.array(acc_value_states)])\n",
    "score"
   ]
  },
  {
   "cell_type": "markdown",
   "metadata": {},
   "source": [
    "#### Prediction using Neural Network"
   ]
  },
  {
   "cell_type": "code",
   "execution_count": 179,
   "metadata": {},
   "outputs": [],
   "source": [
    "# encode class values as integers\n",
    "\n",
    "encoder = LabelEncoder()\n",
    "encoder.fit(y_train)\n",
    "encoded_y_train = encoder.transform(y_train)\n",
    "encoded_y_test = encoder.transform(y_test)\n",
    "# convert integers to dummy variables (i.e. one hot encoded)\n",
    "dummy_y_train = np_utils.to_categorical(encoded_y_train)\n",
    "dummy_y_test = np_utils.to_categorical(encoded_y_test)"
   ]
  },
  {
   "cell_type": "code",
   "execution_count": 180,
   "metadata": {},
   "outputs": [
    {
     "name": "stdout",
     "output_type": "stream",
     "text": [
      "(7352,) (2947,)\n"
     ]
    },
    {
     "data": {
      "text/plain": [
       "(array([2, 2, 2, ..., 5, 5, 5]), array([2, 2, 2, ..., 5, 5, 5]))"
      ]
     },
     "execution_count": 180,
     "metadata": {},
     "output_type": "execute_result"
    }
   ],
   "source": [
    "print(encoded_y_train.shape, encoded_y_test.shape)\n",
    "encoded_y_train, encoded_y_test"
   ]
  },
  {
   "cell_type": "code",
   "execution_count": 181,
   "metadata": {},
   "outputs": [
    {
     "data": {
      "text/plain": [
       "(array([[0., 0., 1., 0., 0., 0.],\n",
       "        [0., 0., 1., 0., 0., 0.],\n",
       "        [0., 0., 1., 0., 0., 0.],\n",
       "        [0., 0., 1., 0., 0., 0.],\n",
       "        [0., 0., 1., 0., 0., 0.]], dtype=float32),\n",
       " array([[0., 0., 0., 1., 0., 0.],\n",
       "        [0., 0., 0., 1., 0., 0.],\n",
       "        [0., 0., 0., 1., 0., 0.],\n",
       "        [0., 0., 0., 1., 0., 0.],\n",
       "        [0., 0., 0., 1., 0., 0.]], dtype=float32))"
      ]
     },
     "execution_count": 181,
     "metadata": {},
     "output_type": "execute_result"
    }
   ],
   "source": [
    "dummy_y_train[:5], dummy_y_test[1000:1005]"
   ]
  },
  {
   "cell_type": "code",
   "execution_count": 183,
   "metadata": {},
   "outputs": [],
   "source": [
    "# define baseline model\n",
    "def baseline_model():\n",
    "    # create model\n",
    "    model = Sequential()\n",
    "    model.add(Dense(128, input_shape = (80,), activation='relu'))\n",
    "    model.add(Dense(6, activation='softmax'))\n",
    "    # Compile model\n",
    "    model.compile(loss='categorical_crossentropy', optimizer='adam', metrics=['accuracy'])\n",
    "    return model"
   ]
  },
  {
   "cell_type": "code",
   "execution_count": 184,
   "metadata": {},
   "outputs": [],
   "source": [
    "model = baseline_model()"
   ]
  },
  {
   "cell_type": "code",
   "execution_count": 188,
   "metadata": {},
   "outputs": [
    {
     "name": "stdout",
     "output_type": "stream",
     "text": [
      "Epoch 1/20\n",
      "29/29 [==============================] - 0s 12ms/step - loss: 0.0570 - accuracy: 0.9850\n",
      "Epoch 2/20\n",
      "29/29 [==============================] - 0s 12ms/step - loss: 0.0550 - accuracy: 0.9859\n",
      "Epoch 3/20\n",
      "29/29 [==============================] - 0s 17ms/step - loss: 0.0529 - accuracy: 0.9859\n",
      "Epoch 4/20\n",
      "29/29 [==============================] - 0s 14ms/step - loss: 0.0511 - accuracy: 0.9865\n",
      "Epoch 5/20\n",
      "29/29 [==============================] - 0s 14ms/step - loss: 0.0493 - accuracy: 0.9871\n",
      "Epoch 6/20\n",
      "29/29 [==============================] - 0s 12ms/step - loss: 0.0482 - accuracy: 0.9872\n",
      "Epoch 7/20\n",
      "29/29 [==============================] - 1s 20ms/step - loss: 0.0466 - accuracy: 0.9869\n",
      "Epoch 8/20\n",
      "29/29 [==============================] - 0s 17ms/step - loss: 0.0451 - accuracy: 0.9882\n",
      "Epoch 9/20\n",
      "29/29 [==============================] - 0s 15ms/step - loss: 0.0436 - accuracy: 0.9887\n",
      "Epoch 10/20\n",
      " 1/29 [>.............................] - ETA: 0s - loss: 0.0559 - accuracy: 0.9805WARNING:tensorflow:Method (on_train_batch_end) is slow compared to the batch update (0.120032). Check your callbacks.\n",
      "29/29 [==============================] - 1s 24ms/step - loss: 0.0428 - accuracy: 0.9888\n",
      "Epoch 11/20\n",
      "29/29 [==============================] - 0s 17ms/step - loss: 0.0414 - accuracy: 0.9888\n",
      "Epoch 12/20\n",
      " 1/29 [>.............................] - ETA: 0s - loss: 0.0265 - accuracy: 1.0000WARNING:tensorflow:Method (on_train_batch_end) is slow compared to the batch update (0.109074). Check your callbacks.\n",
      "29/29 [==============================] - 0s 15ms/step - loss: 0.0402 - accuracy: 0.9887\n",
      "Epoch 13/20\n",
      "29/29 [==============================] - 0s 8ms/step - loss: 0.0389 - accuracy: 0.9898\n",
      "Epoch 14/20\n",
      "29/29 [==============================] - 0s 15ms/step - loss: 0.0380 - accuracy: 0.9895\n",
      "Epoch 15/20\n",
      "29/29 [==============================] - 0s 16ms/step - loss: 0.0373 - accuracy: 0.9905\n",
      "Epoch 16/20\n",
      "29/29 [==============================] - 0s 14ms/step - loss: 0.0358 - accuracy: 0.9898\n",
      "Epoch 17/20\n",
      "29/29 [==============================] - 0s 11ms/step - loss: 0.0346 - accuracy: 0.9906 0s - loss: 0.0361 - accuracy\n",
      "Epoch 18/20\n",
      "29/29 [==============================] - 1s 21ms/step - loss: 0.0336 - accuracy: 0.9913\n",
      "Epoch 19/20\n",
      "29/29 [==============================] - 0s 12ms/step - loss: 0.0325 - accuracy: 0.9906\n",
      "Epoch 20/20\n",
      "29/29 [==============================] - 0s 9ms/step - loss: 0.0318 - accuracy: 0.9913\n"
     ]
    },
    {
     "data": {
      "text/plain": [
       "<tensorflow.python.keras.callbacks.History at 0x1fe528d5370>"
      ]
     },
     "execution_count": 188,
     "metadata": {},
     "output_type": "execute_result"
    }
   ],
   "source": [
    "model.fit(x_train_d, dummy_y_train, batch_size = 256, epochs = 20, verbose = 1)"
   ]
  },
  {
   "cell_type": "code",
   "execution_count": 189,
   "metadata": {},
   "outputs": [
    {
     "data": {
      "text/plain": [
       "array([[0., 0., 1., 0., 0., 0.],\n",
       "       [0., 0., 1., 0., 0., 0.],\n",
       "       [0., 0., 1., 0., 0., 0.],\n",
       "       ...,\n",
       "       [0., 0., 0., 0., 0., 1.],\n",
       "       [0., 0., 0., 0., 0., 1.],\n",
       "       [0., 0., 0., 0., 0., 1.]], dtype=float32)"
      ]
     },
     "execution_count": 189,
     "metadata": {},
     "output_type": "execute_result"
    }
   ],
   "source": [
    "y_pred = np.round(model.predict(x_test_d))\n",
    "y_pred"
   ]
  },
  {
   "cell_type": "code",
   "execution_count": 190,
   "metadata": {},
   "outputs": [
    {
     "name": "stdout",
     "output_type": "stream",
     "text": [
      "                    precision    recall  f1-score   support\n",
      "\n",
      "            LAYING       1.00      0.97      0.98       537\n",
      "           SITTING       0.95      0.84      0.89       491\n",
      "          STANDING       0.85      0.95      0.90       532\n",
      "           WALKING       0.90      0.98      0.94       496\n",
      "WALKING_DOWNSTAIRS       0.97      0.97      0.97       420\n",
      "  WALKING_UPSTAIRS       0.97      0.86      0.91       471\n",
      "\n",
      "         micro avg       0.93      0.93      0.93      2947\n",
      "         macro avg       0.94      0.93      0.93      2947\n",
      "      weighted avg       0.94      0.93      0.93      2947\n",
      "       samples avg       0.93      0.93      0.93      2947\n",
      "\n"
     ]
    }
   ],
   "source": [
    "from sklearn.metrics import classification_report\n",
    "target_names = ['LAYING', 'SITTING', 'STANDING', 'WALKING', 'WALKING_DOWNSTAIRS', 'WALKING_UPSTAIRS']\n",
    "print(classification_report(dummy_y_test, y_pred, target_names = target_names))"
   ]
  }
 ],
 "metadata": {
  "kernelspec": {
   "display_name": "Python 3",
   "language": "python",
   "name": "python3"
  },
  "language_info": {
   "codemirror_mode": {
    "name": "ipython",
    "version": 3
   },
   "file_extension": ".py",
   "mimetype": "text/x-python",
   "name": "python",
   "nbconvert_exporter": "python",
   "pygments_lexer": "ipython3",
   "version": "3.8.3"
  }
 },
 "nbformat": 4,
 "nbformat_minor": 4
}
